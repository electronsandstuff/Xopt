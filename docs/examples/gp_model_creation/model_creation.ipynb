{
 "cells": [
  {
   "cell_type": "markdown",
   "metadata": {
    "collapsed": false,
    "jupyter": {
     "outputs_hidden": false
    }
   },
   "source": [
    "## Building GP Models from Scratch\n",
    "Sometimes it is useful to build GP models outside the context of BO for data\n",
    "visualization and senativity measurements, ie. learned hyperparameters. Here we\n",
    "demonstrate how to build models from data outside of generators.\n",
    "\n",
    "For this we use the 3D rosenbrock function test function."
   ]
  },
  {
   "cell_type": "code",
   "execution_count": 1,
   "metadata": {
    "execution": {
     "iopub.execute_input": "2024-09-13T15:56:57.465196Z",
     "iopub.status.busy": "2024-09-13T15:56:57.464798Z",
     "iopub.status.idle": "2024-09-13T15:56:59.020677Z",
     "shell.execute_reply": "2024-09-13T15:56:59.020398Z"
    },
    "ExecuteTime": {
     "end_time": "2025-01-07T21:01:37.888221500Z",
     "start_time": "2025-01-07T21:01:33.895927300Z"
    }
   },
   "outputs": [
    {
     "data": {
      "text/plain": "          x0        x1        x2            y  xopt_runtime  xopt_error\n0  -1.723213  1.665262  1.751155   282.388774      0.000011       False\n1  -0.283855 -1.072726 -0.329373   358.027893      0.000005       False\n2  -0.098538  1.882174 -0.300296  1829.366119      0.000004       False\n3  -0.498350  0.460952  0.460537    13.208835      0.000003       False\n4  -1.903406 -0.144903  0.010509  1429.426978      0.000003       False\n5  -0.456231  1.483419 -1.230472  1342.165262      0.000003       False\n6   0.188858 -0.759774  0.395774    70.321117      0.000003       False\n7   1.708765 -0.641552  1.332393  1356.364601      0.000003       False\n8   0.023968  0.088241  1.510258   228.294466      0.000003       False\n9   0.855358 -0.304546 -0.631268   161.510389      0.000003       False\n10 -0.954830  0.997121 -0.003053   104.012425      0.000003       False\n11 -1.560339  0.479605  0.084915   391.154729      0.000003       False\n12 -1.471838 -0.728310  1.019962   870.941625      0.000003       False\n13  1.590755 -0.624800 -0.201565  1033.621914      0.000003       False\n14  1.275816 -1.593601 -1.586299  2746.760345      0.000003       False",
      "text/html": "<div>\n<style scoped>\n    .dataframe tbody tr th:only-of-type {\n        vertical-align: middle;\n    }\n\n    .dataframe tbody tr th {\n        vertical-align: top;\n    }\n\n    .dataframe thead th {\n        text-align: right;\n    }\n</style>\n<table border=\"1\" class=\"dataframe\">\n  <thead>\n    <tr style=\"text-align: right;\">\n      <th></th>\n      <th>x0</th>\n      <th>x1</th>\n      <th>x2</th>\n      <th>y</th>\n      <th>xopt_runtime</th>\n      <th>xopt_error</th>\n    </tr>\n  </thead>\n  <tbody>\n    <tr>\n      <th>0</th>\n      <td>-1.723213</td>\n      <td>1.665262</td>\n      <td>1.751155</td>\n      <td>282.388774</td>\n      <td>0.000011</td>\n      <td>False</td>\n    </tr>\n    <tr>\n      <th>1</th>\n      <td>-0.283855</td>\n      <td>-1.072726</td>\n      <td>-0.329373</td>\n      <td>358.027893</td>\n      <td>0.000005</td>\n      <td>False</td>\n    </tr>\n    <tr>\n      <th>2</th>\n      <td>-0.098538</td>\n      <td>1.882174</td>\n      <td>-0.300296</td>\n      <td>1829.366119</td>\n      <td>0.000004</td>\n      <td>False</td>\n    </tr>\n    <tr>\n      <th>3</th>\n      <td>-0.498350</td>\n      <td>0.460952</td>\n      <td>0.460537</td>\n      <td>13.208835</td>\n      <td>0.000003</td>\n      <td>False</td>\n    </tr>\n    <tr>\n      <th>4</th>\n      <td>-1.903406</td>\n      <td>-0.144903</td>\n      <td>0.010509</td>\n      <td>1429.426978</td>\n      <td>0.000003</td>\n      <td>False</td>\n    </tr>\n    <tr>\n      <th>5</th>\n      <td>-0.456231</td>\n      <td>1.483419</td>\n      <td>-1.230472</td>\n      <td>1342.165262</td>\n      <td>0.000003</td>\n      <td>False</td>\n    </tr>\n    <tr>\n      <th>6</th>\n      <td>0.188858</td>\n      <td>-0.759774</td>\n      <td>0.395774</td>\n      <td>70.321117</td>\n      <td>0.000003</td>\n      <td>False</td>\n    </tr>\n    <tr>\n      <th>7</th>\n      <td>1.708765</td>\n      <td>-0.641552</td>\n      <td>1.332393</td>\n      <td>1356.364601</td>\n      <td>0.000003</td>\n      <td>False</td>\n    </tr>\n    <tr>\n      <th>8</th>\n      <td>0.023968</td>\n      <td>0.088241</td>\n      <td>1.510258</td>\n      <td>228.294466</td>\n      <td>0.000003</td>\n      <td>False</td>\n    </tr>\n    <tr>\n      <th>9</th>\n      <td>0.855358</td>\n      <td>-0.304546</td>\n      <td>-0.631268</td>\n      <td>161.510389</td>\n      <td>0.000003</td>\n      <td>False</td>\n    </tr>\n    <tr>\n      <th>10</th>\n      <td>-0.954830</td>\n      <td>0.997121</td>\n      <td>-0.003053</td>\n      <td>104.012425</td>\n      <td>0.000003</td>\n      <td>False</td>\n    </tr>\n    <tr>\n      <th>11</th>\n      <td>-1.560339</td>\n      <td>0.479605</td>\n      <td>0.084915</td>\n      <td>391.154729</td>\n      <td>0.000003</td>\n      <td>False</td>\n    </tr>\n    <tr>\n      <th>12</th>\n      <td>-1.471838</td>\n      <td>-0.728310</td>\n      <td>1.019962</td>\n      <td>870.941625</td>\n      <td>0.000003</td>\n      <td>False</td>\n    </tr>\n    <tr>\n      <th>13</th>\n      <td>1.590755</td>\n      <td>-0.624800</td>\n      <td>-0.201565</td>\n      <td>1033.621914</td>\n      <td>0.000003</td>\n      <td>False</td>\n    </tr>\n    <tr>\n      <th>14</th>\n      <td>1.275816</td>\n      <td>-1.593601</td>\n      <td>-1.586299</td>\n      <td>2746.760345</td>\n      <td>0.000003</td>\n      <td>False</td>\n    </tr>\n  </tbody>\n</table>\n</div>"
     },
     "execution_count": 1,
     "metadata": {},
     "output_type": "execute_result"
    }
   ],
   "source": [
    "# set values if testing\n",
    "import os\n",
    "\n",
    "from xopt import Xopt, Evaluator\n",
    "from xopt.generators import RandomGenerator\n",
    "from xopt.resources.test_functions.rosenbrock import (\n",
    "    evaluate_rosenbrock,\n",
    "    make_rosenbrock_vocs,\n",
    ")\n",
    "\n",
    "from xopt.generators.bayesian.visualize import visualize_model\n",
    "from xopt.generators.bayesian.models.standard import StandardModelConstructor\n",
    "\n",
    "# Ignore all warnings\n",
    "import warnings\n",
    "\n",
    "warnings.filterwarnings(\"ignore\")\n",
    "\n",
    "\n",
    "SMOKE_TEST = os.environ.get(\"SMOKE_TEST\")\n",
    "NUM_MC_SAMPLES = 1 if SMOKE_TEST else 128\n",
    "NUM_RESTARTS = 1 if SMOKE_TEST else 20\n",
    "\n",
    "# make rosenbrock function vocs in 3D\n",
    "vocs = make_rosenbrock_vocs(3)\n",
    "\n",
    "# collect some data using random sampling\n",
    "evaluator = Evaluator(function=evaluate_rosenbrock)\n",
    "generator = RandomGenerator(vocs=vocs)\n",
    "X = Xopt(generator=generator, evaluator=evaluator, vocs=vocs)\n",
    "X.random_evaluate(15)"
   ]
  },
  {
   "cell_type": "markdown",
   "metadata": {
    "collapsed": false,
    "jupyter": {
     "outputs_hidden": false
    }
   },
   "source": [
    "## Create GP model based on the data"
   ]
  },
  {
   "cell_type": "code",
   "execution_count": 2,
   "metadata": {
    "execution": {
     "iopub.execute_input": "2024-09-13T15:56:59.042358Z",
     "iopub.status.busy": "2024-09-13T15:56:59.042170Z",
     "iopub.status.idle": "2024-09-13T15:56:59.043905Z",
     "shell.execute_reply": "2024-09-13T15:56:59.043681Z"
    },
    "ExecuteTime": {
     "end_time": "2025-01-07T21:01:37.891750100Z",
     "start_time": "2025-01-07T21:01:37.890225800Z"
    }
   },
   "outputs": [],
   "source": [
    "data = X.data"
   ]
  },
  {
   "cell_type": "code",
   "execution_count": 3,
   "metadata": {
    "execution": {
     "iopub.execute_input": "2024-09-13T15:56:59.045209Z",
     "iopub.status.busy": "2024-09-13T15:56:59.045127Z",
     "iopub.status.idle": "2024-09-13T15:56:59.301614Z",
     "shell.execute_reply": "2024-09-13T15:56:59.301336Z"
    },
    "ExecuteTime": {
     "end_time": "2025-01-07T21:01:38.729744700Z",
     "start_time": "2025-01-07T21:01:37.892751300Z"
    }
   },
   "outputs": [
    {
     "name": "stdout",
     "output_type": "stream",
     "text": [
      "Help on method build_model in module xopt.generators.bayesian.models.standard:\n",
      "\n",
      "build_model(input_names: List[str], outcome_names: List[str], data: pandas.core.frame.DataFrame, input_bounds: Dict[str, List] = None, dtype: torch.dtype = torch.float64, device: Union[torch.device, str] = 'cpu') -> botorch.models.model_list_gp_regression.ModelListGP method of xopt.generators.bayesian.models.standard.StandardModelConstructor instance\n",
      "    Construct independent models for each objective and constraint.\n",
      "\n",
      "    Parameters\n",
      "    ----------\n",
      "    input_names : List[str]\n",
      "        Names of input variables.\n",
      "    outcome_names : List[str]\n",
      "        Names of outcome variables.\n",
      "    data : pd.DataFrame\n",
      "        Data used for training the model.\n",
      "    input_bounds : Dict[str, List], optional\n",
      "        Bounds for input variables.\n",
      "    dtype : torch.dtype, optional\n",
      "        Data type for the model (default is torch.double).\n",
      "    device : Union[torch.device, str], optional\n",
      "        Device on which to perform computations (default is \"cpu\").\n",
      "\n",
      "    Returns\n",
      "    -------\n",
      "    ModelListGP\n",
      "        A list of trained botorch models.\n",
      "\n"
     ]
    }
   ],
   "source": [
    "model_constructor = StandardModelConstructor()\n",
    "\n",
    "# here we build a model from vocs\n",
    "model = model_constructor.build_model_from_vocs(vocs=vocs, data=data)\n",
    "\n",
    "# here we build a model from info (more flexible)\n",
    "model = model_constructor.build_model(\n",
    "    input_names=[\"x0\", \"x1\", \"x2\"], outcome_names=[\"y\"], data=data\n",
    ")\n",
    "help(model_constructor.build_model)"
   ]
  },
  {
   "cell_type": "markdown",
   "metadata": {
    "collapsed": false,
    "jupyter": {
     "outputs_hidden": false
    }
   },
   "source": [
    "## Examine GP model hyperparameters\n",
    "Here we look at the GP hyperparameters for the objective function (the first model).\n",
    "Note: the hyperparameters here are in raw_units (due to contraints on parameter\n",
    "values, ie. lengthscales > 0)"
   ]
  },
  {
   "cell_type": "code",
   "execution_count": 4,
   "metadata": {
    "execution": {
     "iopub.execute_input": "2024-09-13T15:56:59.303297Z",
     "iopub.status.busy": "2024-09-13T15:56:59.303134Z",
     "iopub.status.idle": "2024-09-13T15:56:59.306355Z",
     "shell.execute_reply": "2024-09-13T15:56:59.306053Z"
    },
    "ExecuteTime": {
     "end_time": "2025-01-07T21:01:38.736745Z",
     "start_time": "2025-01-07T21:01:38.731745300Z"
    }
   },
   "outputs": [
    {
     "name": "stdout",
     "output_type": "stream",
     "text": [
      "likelihood.noise_covar.raw_noise Parameter containing:\n",
      "tensor([-20.8063], dtype=torch.float64, requires_grad=True)\n",
      "mean_module.raw_constant Parameter containing:\n",
      "tensor(0.7065, dtype=torch.float64, requires_grad=True)\n",
      "covar_module.raw_lengthscale Parameter containing:\n",
      "tensor([[0.3739, 0.2185, 1.2353]], dtype=torch.float64, requires_grad=True)\n"
     ]
    }
   ],
   "source": [
    "objective_model = model.models[vocs.output_names.index(\"y\")]\n",
    "\n",
    "# print raw hyperparameter values\n",
    "for name, val in objective_model.named_parameters():\n",
    "    print(name, val)"
   ]
  },
  {
   "cell_type": "code",
   "execution_count": 8,
   "metadata": {
    "execution": {
     "iopub.execute_input": "2024-09-13T15:56:59.307614Z",
     "iopub.status.busy": "2024-09-13T15:56:59.307530Z",
     "iopub.status.idle": "2024-09-13T15:56:59.310005Z",
     "shell.execute_reply": "2024-09-13T15:56:59.309776Z"
    },
    "ExecuteTime": {
     "end_time": "2025-01-07T21:06:12.904773200Z",
     "start_time": "2025-01-07T21:06:12.899686500Z"
    }
   },
   "outputs": [
    {
     "name": "stdout",
     "output_type": "stream",
     "text": [
      "prior mean: tensor(0.7065, dtype=torch.float64)\n",
      "noise: tensor([0.0001], dtype=torch.float64)\n",
      "lengthscales tensor([[0.3739, 0.2185, 1.2353]], dtype=torch.float64)\n"
     ]
    }
   ],
   "source": [
    "# print real values - note that these are in normalized coordinates\n",
    "print(\"prior mean:\", objective_model.mean_module.constant.data)\n",
    "print(\"noise:\", objective_model.likelihood.noise_covar.noise.data)\n",
    "print(\"lengthscales\", objective_model.covar_module.lengthscale.data)"
   ]
  },
  {
   "cell_type": "code",
   "execution_count": 7,
   "outputs": [
    {
     "data": {
      "text/plain": "SingleTaskGP(\n  (likelihood): GaussianLikelihood(\n    (noise_covar): HomoskedasticNoise(\n      (noise_prior): GammaPrior()\n      (raw_noise_constraint): GreaterThan(1.000E-04)\n    )\n  )\n  (mean_module): ConstantMean()\n  (covar_module): RBFKernel(\n    (lengthscale_prior): LogNormalPrior()\n    (raw_lengthscale_constraint): GreaterThan(2.500E-02)\n  )\n  (outcome_transform): Standardize()\n  (input_transform): Normalize()\n)"
     },
     "execution_count": 7,
     "metadata": {},
     "output_type": "execute_result"
    }
   ],
   "source": [
    "objective_model"
   ],
   "metadata": {
    "collapsed": false,
    "ExecuteTime": {
     "end_time": "2025-01-07T21:02:08.637731400Z",
     "start_time": "2025-01-07T21:02:08.632699900Z"
    }
   }
  },
  {
   "cell_type": "markdown",
   "metadata": {
    "collapsed": false,
    "jupyter": {
     "outputs_hidden": false
    }
   },
   "source": [
    "## Visualize model predictions"
   ]
  },
  {
   "cell_type": "code",
   "execution_count": null,
   "metadata": {
    "execution": {
     "iopub.execute_input": "2024-09-13T15:56:59.311380Z",
     "iopub.status.busy": "2024-09-13T15:56:59.311290Z",
     "iopub.status.idle": "2024-09-13T15:56:59.854969Z",
     "shell.execute_reply": "2024-09-13T15:56:59.854557Z"
    }
   },
   "outputs": [],
   "source": [
    "fig, ax = visualize_model(\n",
    "    model, vocs, data, variable_names=[\"x0\", \"x1\"], reference_point={\"x2\": 0.0}\n",
    ")"
   ]
  }
 ],
 "metadata": {
  "kernelspec": {
   "display_name": "Python 3 (ipykernel)",
   "language": "python",
   "name": "python3"
  },
  "language_info": {
   "codemirror_mode": {
    "name": "ipython",
    "version": 3
   },
   "file_extension": ".py",
   "mimetype": "text/x-python",
   "name": "python",
   "nbconvert_exporter": "python",
   "pygments_lexer": "ipython3",
   "version": "3.12.6"
  }
 },
 "nbformat": 4,
 "nbformat_minor": 4
}
