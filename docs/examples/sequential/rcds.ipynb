{
 "cells": [
  {
   "cell_type": "markdown",
   "id": "6f4b8676-940b-4a69-b495-df62bbc6e2fa",
   "metadata": {},
   "source": [
    "## RCDS Optimization\n",
    "\n",
    "In this example we demonstrate RCDS optimization."
   ]
  },
  {
   "cell_type": "code",
   "execution_count": 1,
   "id": "d05700a3-6853-4dae-bc87-3f9f37dea446",
   "metadata": {
    "ExecuteTime": {
     "end_time": "2023-10-26T22:16:31.208636600Z",
     "start_time": "2023-10-26T22:16:31.201806800Z"
    },
    "tags": []
   },
   "outputs": [],
   "source": [
    "# If you encounter the \"Initializing libomp.dylib, but found libomp.dylib already initialized.\" error\n",
    "# Please run this cell\n",
    "import os"
   ]
  },
  {
   "cell_type": "code",
   "execution_count": 2,
   "id": "78534aeb-5ab2-4a3c-964c-4e080c7e953f",
   "metadata": {
    "ExecuteTime": {
     "end_time": "2023-10-26T22:16:34.557495800Z",
     "start_time": "2023-10-26T22:16:31.210637400Z"
    },
    "scrolled": true,
    "tags": []
   },
   "outputs": [
    {
     "name": "stderr",
     "output_type": "stream",
     "text": [
      "\n",
      "A module that was compiled using NumPy 1.x cannot be run in\n",
      "NumPy 2.2.4 as it may crash. To support both 1.x and 2.x\n",
      "versions of NumPy, modules must be compiled with NumPy 2.0.\n",
      "Some module may need to rebuild instead e.g. with 'pybind11>=2.12'.\n",
      "\n",
      "If you are a user of the module, the easiest solution will be to\n",
      "downgrade to 'numpy<2' or try to upgrade the affected module.\n",
      "We expect that some modules will need time to support NumPy 2.\n",
      "\n",
      "Traceback (most recent call last):  File \"<frozen runpy>\", line 198, in _run_module_as_main\n",
      "  File \"<frozen runpy>\", line 88, in _run_code\n",
      "  File \"/usr/local/anaconda3/envs/xopt/lib/python3.12/site-packages/ipykernel_launcher.py\", line 18, in <module>\n",
      "    app.launch_new_instance()\n",
      "  File \"/usr/local/anaconda3/envs/xopt/lib/python3.12/site-packages/traitlets/config/application.py\", line 1075, in launch_instance\n",
      "    app.start()\n",
      "  File \"/usr/local/anaconda3/envs/xopt/lib/python3.12/site-packages/ipykernel/kernelapp.py\", line 739, in start\n",
      "    self.io_loop.start()\n",
      "  File \"/usr/local/anaconda3/envs/xopt/lib/python3.12/site-packages/tornado/platform/asyncio.py\", line 205, in start\n",
      "    self.asyncio_loop.run_forever()\n",
      "  File \"/usr/local/anaconda3/envs/xopt/lib/python3.12/asyncio/base_events.py\", line 645, in run_forever\n",
      "    self._run_once()\n",
      "  File \"/usr/local/anaconda3/envs/xopt/lib/python3.12/asyncio/base_events.py\", line 1999, in _run_once\n",
      "    handle._run()\n",
      "  File \"/usr/local/anaconda3/envs/xopt/lib/python3.12/asyncio/events.py\", line 88, in _run\n",
      "    self._context.run(self._callback, *self._args)\n",
      "  File \"/usr/local/anaconda3/envs/xopt/lib/python3.12/site-packages/ipykernel/kernelbase.py\", line 545, in dispatch_queue\n",
      "    await self.process_one()\n",
      "  File \"/usr/local/anaconda3/envs/xopt/lib/python3.12/site-packages/ipykernel/kernelbase.py\", line 534, in process_one\n",
      "    await dispatch(*args)\n",
      "  File \"/usr/local/anaconda3/envs/xopt/lib/python3.12/site-packages/ipykernel/kernelbase.py\", line 437, in dispatch_shell\n",
      "    await result\n",
      "  File \"/usr/local/anaconda3/envs/xopt/lib/python3.12/site-packages/ipykernel/ipkernel.py\", line 362, in execute_request\n",
      "    await super().execute_request(stream, ident, parent)\n",
      "  File \"/usr/local/anaconda3/envs/xopt/lib/python3.12/site-packages/ipykernel/kernelbase.py\", line 778, in execute_request\n",
      "    reply_content = await reply_content\n",
      "  File \"/usr/local/anaconda3/envs/xopt/lib/python3.12/site-packages/ipykernel/ipkernel.py\", line 449, in do_execute\n",
      "    res = shell.run_cell(\n",
      "  File \"/usr/local/anaconda3/envs/xopt/lib/python3.12/site-packages/ipykernel/zmqshell.py\", line 549, in run_cell\n",
      "    return super().run_cell(*args, **kwargs)\n",
      "  File \"/usr/local/anaconda3/envs/xopt/lib/python3.12/site-packages/IPython/core/interactiveshell.py\", line 3047, in run_cell\n",
      "    result = self._run_cell(\n",
      "  File \"/usr/local/anaconda3/envs/xopt/lib/python3.12/site-packages/IPython/core/interactiveshell.py\", line 3102, in _run_cell\n",
      "    result = runner(coro)\n",
      "  File \"/usr/local/anaconda3/envs/xopt/lib/python3.12/site-packages/IPython/core/async_helpers.py\", line 128, in _pseudo_sync_runner\n",
      "    coro.send(None)\n",
      "  File \"/usr/local/anaconda3/envs/xopt/lib/python3.12/site-packages/IPython/core/interactiveshell.py\", line 3306, in run_cell_async\n",
      "    has_raised = await self.run_ast_nodes(code_ast.body, cell_name,\n",
      "  File \"/usr/local/anaconda3/envs/xopt/lib/python3.12/site-packages/IPython/core/interactiveshell.py\", line 3489, in run_ast_nodes\n",
      "    if await self.run_code(code, result, async_=asy):\n",
      "  File \"/usr/local/anaconda3/envs/xopt/lib/python3.12/site-packages/IPython/core/interactiveshell.py\", line 3549, in run_code\n",
      "    exec(code_obj, self.user_global_ns, self.user_ns)\n",
      "  File \"/var/folders/d4/_43ppmds71d2s_rwllwn78w9mj8hft/T/ipykernel_47292/3992130010.py\", line 2, in <module>\n",
      "    from xopt.generators.sequential import RCDSGenerator\n",
      "  File \"/Users/zhezhang/Projects/Xopt/xopt/__init__.py\", line 1, in <module>\n",
      "    from xopt.asynchronous import AsynchronousXopt\n",
      "  File \"/Users/zhezhang/Projects/Xopt/xopt/asynchronous.py\", line 9, in <module>\n",
      "    from xopt.base import logger, Xopt\n",
      "  File \"/Users/zhezhang/Projects/Xopt/xopt/base.py\", line 18, in <module>\n",
      "    from xopt.evaluator import Evaluator, validate_outputs\n",
      "  File \"/Users/zhezhang/Projects/Xopt/xopt/evaluator.py\", line 13, in <module>\n",
      "    from xopt.pydantic import NormalExecutor, XoptBaseModel\n",
      "  File \"/Users/zhezhang/Projects/Xopt/xopt/pydantic.py\", line 17, in <module>\n",
      "    import torch.nn\n",
      "  File \"/usr/local/anaconda3/envs/xopt/lib/python3.12/site-packages/torch/__init__.py\", line 1477, in <module>\n",
      "    from .functional import *  # noqa: F403\n",
      "  File \"/usr/local/anaconda3/envs/xopt/lib/python3.12/site-packages/torch/functional.py\", line 9, in <module>\n",
      "    import torch.nn.functional as F\n",
      "  File \"/usr/local/anaconda3/envs/xopt/lib/python3.12/site-packages/torch/nn/__init__.py\", line 1, in <module>\n",
      "    from .modules import *  # noqa: F403\n",
      "  File \"/usr/local/anaconda3/envs/xopt/lib/python3.12/site-packages/torch/nn/modules/__init__.py\", line 35, in <module>\n",
      "    from .transformer import TransformerEncoder, TransformerDecoder, \\\n",
      "  File \"/usr/local/anaconda3/envs/xopt/lib/python3.12/site-packages/torch/nn/modules/transformer.py\", line 20, in <module>\n",
      "    device: torch.device = torch.device(torch._C._get_default_device()),  # torch.device('cpu'),\n",
      "/usr/local/anaconda3/envs/xopt/lib/python3.12/site-packages/torch/nn/modules/transformer.py:20: UserWarning: Failed to initialize NumPy: _ARRAY_API not found (Triggered internally at /Users/runner/work/pytorch/pytorch/pytorch/torch/csrc/utils/tensor_numpy.cpp:84.)\n",
      "  device: torch.device = torch.device(torch._C._get_default_device()),  # torch.device('cpu'),\n"
     ]
    }
   ],
   "source": [
    "import numpy as np\n",
    "from xopt.generators.sequential import RCDSGenerator\n",
    "from xopt.vocs import VOCS\n",
    "from xopt.evaluator import Evaluator\n",
    "from xopt import Xopt\n",
    "from tqdm.auto import tqdm\n",
    "import warnings\n",
    "\n",
    "\n",
    "warnings.filterwarnings(\"ignore\")\n",
    "\n",
    "os.environ[\"KMP_DUPLICATE_LIB_OK\"] = \"True\""
   ]
  },
  {
   "cell_type": "code",
   "execution_count": 3,
   "id": "472671e3-0fe2-4b34-beee-708868b9741e",
   "metadata": {},
   "outputs": [],
   "source": [
    "# Reload packages automatically\n",
    "%load_ext autoreload\n",
    "%autoreload 2"
   ]
  },
  {
   "cell_type": "markdown",
   "id": "fe8297c8-90e2-4e40-ab0b-63a9fe655aed",
   "metadata": {},
   "source": [
    "### RCDS test problem\n",
    "\n",
    "This test problem is a 2-D quadratic function."
   ]
  },
  {
   "cell_type": "code",
   "execution_count": 6,
   "id": "35171e8a-ea8f-4cbb-b1a0-d01213e0bbcc",
   "metadata": {
    "ExecuteTime": {
     "end_time": "2023-10-26T22:16:34.571463700Z",
     "start_time": "2023-10-26T22:16:34.559463800Z"
    }
   },
   "outputs": [],
   "source": [
    "def f_test(input_dict):\n",
    "    p = []\n",
    "    for i in range(2):\n",
    "        p.append(input_dict[f\"p{i}\"])\n",
    "\n",
    "    obj = np.linalg.norm(p)\n",
    "    outcome_dict = {\"f\": obj}\n",
    "\n",
    "    return outcome_dict"
   ]
  },
  {
   "cell_type": "markdown",
   "id": "9638b784-fa2f-4a94-900c-c66c8b0ea58b",
   "metadata": {},
   "source": [
    "### Run RCDS on the test problem (YAML method)"
   ]
  },
  {
   "cell_type": "code",
   "execution_count": 7,
   "id": "8fac03d4-64f7-4773-973c-850b977a888e",
   "metadata": {
    "ExecuteTime": {
     "end_time": "2023-10-26T22:16:34.602490200Z",
     "start_time": "2023-10-26T22:16:34.576462200Z"
    },
    "scrolled": true
   },
   "outputs": [
    {
     "data": {
      "text/plain": [
       "\n",
       "            Xopt\n",
       "________________________________\n",
       "Version: 2.5.6.dev39+gd20d91b1.d20250320\n",
       "Data size: 0\n",
       "Config as YAML:\n",
       "dump_file: null\n",
       "evaluator:\n",
       "  function: __main__.f_test\n",
       "  function_kwargs: {}\n",
       "  max_workers: 1\n",
       "  vectorized: false\n",
       "generator:\n",
       "  init_mat: null\n",
       "  is_active: false\n",
       "  name: rcds\n",
       "  noise: 1.0e-05\n",
       "  step: 0.01\n",
       "max_evaluations: 100\n",
       "serialize_inline: false\n",
       "serialize_torch: false\n",
       "strict: true\n",
       "vocs:\n",
       "  constants: {}\n",
       "  constraints: {}\n",
       "  objectives:\n",
       "    f: MINIMIZE\n",
       "  observables: []\n",
       "  variables:\n",
       "    p0:\n",
       "    - 0.0\n",
       "    - 1.0\n",
       "    p1:\n",
       "    - 0.0\n",
       "    - 1.0\n"
      ]
     },
     "execution_count": 7,
     "metadata": {},
     "output_type": "execute_result"
    }
   ],
   "source": [
    "YAML = \"\"\"\n",
    "max_evaluations: 100\n",
    "generator:\n",
    "    name: rcds\n",
    "    x0: null\n",
    "    init_mat: null\n",
    "    noise: 0.00001\n",
    "    step: 0.01\n",
    "evaluator:\n",
    "    function: __main__.f_test\n",
    "vocs:\n",
    "    variables:\n",
    "        p0: [0, 1]\n",
    "        p1: [0, 1]\n",
    "    objectives:\n",
    "        f: MINIMIZE\n",
    "\"\"\"\n",
    "\n",
    "X = Xopt.from_yaml(YAML)\n",
    "X"
   ]
  },
  {
   "cell_type": "code",
   "execution_count": 8,
   "id": "e16ab267-8b5e-4616-b552-2b0410c5b75f",
   "metadata": {
    "ExecuteTime": {
     "end_time": "2023-10-26T22:16:35.201462800Z",
     "start_time": "2023-10-26T22:16:34.607463300Z"
    },
    "tags": []
   },
   "outputs": [],
   "source": [
    "X.random_evaluate(1)\n",
    "X.run()"
   ]
  },
  {
   "cell_type": "markdown",
   "id": "54acb14d-2b25-4f2e-a3e9-fecb61af552f",
   "metadata": {},
   "source": [
    "Now you can go directly to the [Visualization](#Visualization) section and check out the results."
   ]
  },
  {
   "cell_type": "markdown",
   "id": "eadf6cd3-24af-4b8b-8df0-9d85d0b26757",
   "metadata": {},
   "source": [
    "### Run RCDS on the maximization test problem (YAML method)"
   ]
  },
  {
   "cell_type": "code",
   "execution_count": 10,
   "id": "3e6c673c-4518-4db2-82ba-1ea9b5a11d53",
   "metadata": {
    "ExecuteTime": {
     "end_time": "2023-10-26T22:16:34.602490200Z",
     "start_time": "2023-10-26T22:16:34.576462200Z"
    }
   },
   "outputs": [
    {
     "data": {
      "text/plain": [
       "\n",
       "            Xopt\n",
       "________________________________\n",
       "Version: 2.5.6.dev39+gd20d91b1.d20250320\n",
       "Data size: 0\n",
       "Config as YAML:\n",
       "dump_file: null\n",
       "evaluator:\n",
       "  function: __main__.f_test\n",
       "  function_kwargs: {}\n",
       "  max_workers: 1\n",
       "  vectorized: false\n",
       "generator:\n",
       "  init_mat: null\n",
       "  is_active: false\n",
       "  name: rcds\n",
       "  noise: 1.0e-08\n",
       "  step: 0.01\n",
       "max_evaluations: 400\n",
       "serialize_inline: false\n",
       "serialize_torch: false\n",
       "strict: true\n",
       "vocs:\n",
       "  constants: {}\n",
       "  constraints: {}\n",
       "  objectives:\n",
       "    f: MAXIMIZE\n",
       "  observables: []\n",
       "  variables:\n",
       "    p0:\n",
       "    - 1.0\n",
       "    - 3.0\n",
       "    p1:\n",
       "    - -4.0\n",
       "    - 2.0\n"
      ]
     },
     "execution_count": 10,
     "metadata": {},
     "output_type": "execute_result"
    }
   ],
   "source": [
    "YAML = \"\"\"\n",
    "max_evaluations: 400\n",
    "generator:\n",
    "    name: rcds\n",
    "    x0: null\n",
    "    init_mat: null\n",
    "    noise: 1e-8\n",
    "    step: 0.01\n",
    "evaluator:\n",
    "    function: __main__.f_test\n",
    "vocs:\n",
    "    variables:\n",
    "        p0: [1, 3]\n",
    "        p1: [-4, 2]\n",
    "    objectives:\n",
    "        f: MAXIMIZE\n",
    "\"\"\"\n",
    "\n",
    "X = Xopt.from_yaml(YAML)\n",
    "X"
   ]
  },
  {
   "cell_type": "code",
   "execution_count": 11,
   "id": "1f738c00-4a57-41a4-a0a8-2abf2584667f",
   "metadata": {
    "ExecuteTime": {
     "end_time": "2023-10-26T22:16:35.201462800Z",
     "start_time": "2023-10-26T22:16:34.607463300Z"
    },
    "tags": []
   },
   "outputs": [],
   "source": [
    "X.random_evaluate(1)\n",
    "X.run()"
   ]
  },
  {
   "cell_type": "markdown",
   "id": "09a02bed-32f5-4d2a-945d-2fdcc4756af3",
   "metadata": {},
   "source": [
    "Now you can go directly to the [Visualization](#Visualization) section and check out the results."
   ]
  },
  {
   "cell_type": "markdown",
   "id": "4d688915-bdca-4d0f-baaa-5c50cfd80d79",
   "metadata": {},
   "source": [
    "### Run RCDS on the test problem (API method)"
   ]
  },
  {
   "cell_type": "markdown",
   "id": "8f0a6f75-7f92-47ee-828d-ad7435932cf2",
   "metadata": {},
   "source": [
    "#### VOCS\n",
    "\n",
    "We'll set the bounds for all the variables pi to [0, 1]."
   ]
  },
  {
   "cell_type": "code",
   "execution_count": 13,
   "id": "bd028b25-f395-43ed-8473-2dc950ff72c3",
   "metadata": {
    "ExecuteTime": {
     "end_time": "2023-10-26T22:16:35.216462Z",
     "start_time": "2023-10-26T22:16:35.204461300Z"
    }
   },
   "outputs": [],
   "source": [
    "n_var = 2"
   ]
  },
  {
   "cell_type": "code",
   "execution_count": 14,
   "id": "c99026b0-f595-4247-9695-6d0b067ceeca",
   "metadata": {
    "ExecuteTime": {
     "end_time": "2023-10-26T22:16:35.239487Z",
     "start_time": "2023-10-26T22:16:35.218462900Z"
    }
   },
   "outputs": [],
   "source": [
    "variables = {}\n",
    "for i in range(n_var):\n",
    "    variables[f\"p{i}\"] = [0, 1]\n",
    "\n",
    "vocs = VOCS(\n",
    "    variables=variables,\n",
    "    objectives={\"f\": \"MINIMIZE\"},\n",
    ")"
   ]
  },
  {
   "cell_type": "code",
   "execution_count": 15,
   "id": "0af5b8c7-4b3a-4a62-b92b-539899d11109",
   "metadata": {
    "ExecuteTime": {
     "end_time": "2023-10-26T22:16:35.247462100Z",
     "start_time": "2023-10-26T22:16:35.233463200Z"
    }
   },
   "outputs": [
    {
     "data": {
      "text/plain": [
       "VOCS(variables={'p0': [0.0, 1.0], 'p1': [0.0, 1.0]}, constraints={}, objectives={'f': 'MINIMIZE'}, constants={}, observables=[])"
      ]
     },
     "execution_count": 15,
     "metadata": {},
     "output_type": "execute_result"
    }
   ],
   "source": [
    "vocs"
   ]
  },
  {
   "cell_type": "markdown",
   "id": "5354659c-cc30-4d70-8659-0fefd43ef0f0",
   "metadata": {},
   "source": [
    "#### Evaluator"
   ]
  },
  {
   "cell_type": "code",
   "execution_count": 16,
   "id": "efafda0b-7282-4027-a1f3-f96454c114bd",
   "metadata": {
    "ExecuteTime": {
     "end_time": "2023-10-26T22:16:35.290491Z",
     "start_time": "2023-10-26T22:16:35.249462300Z"
    }
   },
   "outputs": [],
   "source": [
    "evaluator = Evaluator(function=f_test)"
   ]
  },
  {
   "cell_type": "markdown",
   "id": "d6c58dcc-0b45-4408-a428-1681098a6a4a",
   "metadata": {},
   "source": [
    "#### Generator"
   ]
  },
  {
   "cell_type": "code",
   "execution_count": 17,
   "id": "445daa23-5f97-4a82-bd59-57d9cbae6ac1",
   "metadata": {
    "ExecuteTime": {
     "end_time": "2023-10-26T22:16:35.296460300Z",
     "start_time": "2023-10-26T22:16:35.263463700Z"
    }
   },
   "outputs": [],
   "source": [
    "generator = RCDSGenerator(vocs=vocs)"
   ]
  },
  {
   "cell_type": "code",
   "execution_count": 18,
   "id": "346fad29",
   "metadata": {
    "ExecuteTime": {
     "end_time": "2023-10-26T22:16:35.297491800Z",
     "start_time": "2023-10-26T22:16:35.290491Z"
    }
   },
   "outputs": [
    {
     "data": {
      "text/plain": [
       "{'is_active': False, 'init_mat': None, 'noise': 1e-05, 'step': 0.01}"
      ]
     },
     "execution_count": 18,
     "metadata": {},
     "output_type": "execute_result"
    }
   ],
   "source": [
    "generator.model_dump()"
   ]
  },
  {
   "cell_type": "markdown",
   "id": "f4981983-1e64-43a1-ac90-f88546f9650a",
   "metadata": {},
   "source": [
    "#### Run the optimization"
   ]
  },
  {
   "cell_type": "code",
   "execution_count": 19,
   "id": "10c77281-f49c-4cf7-bb2d-8a278cf00e23",
   "metadata": {
    "ExecuteTime": {
     "end_time": "2023-10-26T22:16:35.307490500Z",
     "start_time": "2023-10-26T22:16:35.296460300Z"
    }
   },
   "outputs": [],
   "source": [
    "X = Xopt(vocs=vocs, evaluator=evaluator, generator=generator)"
   ]
  },
  {
   "cell_type": "code",
   "execution_count": 20,
   "id": "1632b55e-1dd0-49b2-9444-cfe32e30977b",
   "metadata": {
    "ExecuteTime": {
     "end_time": "2023-10-26T22:16:35.907460800Z",
     "start_time": "2023-10-26T22:16:35.308463400Z"
    },
    "tags": []
   },
   "outputs": [
    {
     "data": {
      "text/html": [
       "<div>\n",
       "<style scoped>\n",
       "    .dataframe tbody tr th:only-of-type {\n",
       "        vertical-align: middle;\n",
       "    }\n",
       "\n",
       "    .dataframe tbody tr th {\n",
       "        vertical-align: top;\n",
       "    }\n",
       "\n",
       "    .dataframe thead th {\n",
       "        text-align: right;\n",
       "    }\n",
       "</style>\n",
       "<table border=\"1\" class=\"dataframe\">\n",
       "  <thead>\n",
       "    <tr style=\"text-align: right;\">\n",
       "      <th></th>\n",
       "      <th>p0</th>\n",
       "      <th>p1</th>\n",
       "      <th>f</th>\n",
       "      <th>xopt_runtime</th>\n",
       "      <th>xopt_error</th>\n",
       "    </tr>\n",
       "  </thead>\n",
       "  <tbody>\n",
       "    <tr>\n",
       "      <th>0</th>\n",
       "      <td>0.5</td>\n",
       "      <td>0.5</td>\n",
       "      <td>0.707107</td>\n",
       "      <td>0.000034</td>\n",
       "      <td>False</td>\n",
       "    </tr>\n",
       "  </tbody>\n",
       "</table>\n",
       "</div>"
      ],
      "text/plain": [
       "    p0   p1         f  xopt_runtime  xopt_error\n",
       "0  0.5  0.5  0.707107      0.000034       False"
      ]
     },
     "execution_count": 20,
     "metadata": {},
     "output_type": "execute_result"
    }
   ],
   "source": [
    "X.evaluate_data({\"p0\": 0.5, \"p1\": 0.5})"
   ]
  },
  {
   "cell_type": "code",
   "execution_count": 21,
   "id": "9bb04077-1562-430d-a661-de8cb8836b7d",
   "metadata": {
    "ExecuteTime": {
     "end_time": "2023-10-26T22:16:35.907460800Z",
     "start_time": "2023-10-26T22:16:35.308463400Z"
    },
    "tags": []
   },
   "outputs": [
    {
     "data": {
      "application/vnd.jupyter.widget-view+json": {
       "model_id": "ec4719ca0f66445ea62dc483cb8e5744",
       "version_major": 2,
       "version_minor": 0
      },
      "text/plain": [
       "  0%|          | 0/400 [00:00<?, ?it/s]"
      ]
     },
     "metadata": {},
     "output_type": "display_data"
    }
   ],
   "source": [
    "for i in tqdm(range(400)):\n",
    "    X.step()"
   ]
  },
  {
   "cell_type": "code",
   "execution_count": null,
   "id": "0f405f59-d23e-4753-9e3b-1cac38c306c1",
   "metadata": {},
   "outputs": [],
   "source": []
  },
  {
   "cell_type": "markdown",
   "id": "9808d9af-a815-4995-911a-43bd9eb105da",
   "metadata": {},
   "source": [
    "### Visualization"
   ]
  },
  {
   "cell_type": "code",
   "execution_count": 22,
   "id": "651d6821-8069-4efb-8bad-56a87f7240e8",
   "metadata": {
    "ExecuteTime": {
     "end_time": "2023-10-26T22:16:36.402079200Z",
     "start_time": "2023-10-26T22:16:35.911052600Z"
    }
   },
   "outputs": [
    {
     "data": {
      "text/plain": [
       "<Axes: >"
      ]
     },
     "execution_count": 22,
     "metadata": {},
     "output_type": "execute_result"
    },
    {
     "data": {
      "image/png": "[encoded data removed]",
      "text/plain": [
       "<Figure size 640x480 with 1 Axes>"
      ]
     },
     "metadata": {},
     "output_type": "display_data"
    }
   ],
   "source": [
    "X.data.plot(y=\"f\")"
   ]
  },
  {
   "cell_type": "code",
   "execution_count": null,
   "id": "096fa078-9cf9-43a0-8366-2ccd2280bcc0",
   "metadata": {},
   "outputs": [],
   "source": []
  }
 ],
 "metadata": {
  "kernelspec": {
   "display_name": "Python 3 (ipykernel)",
   "language": "python",
   "name": "python3"
  },
  "language_info": {
   "codemirror_mode": {
    "name": "ipython",
    "version": 3
   },
   "file_extension": ".py",
   "mimetype": "text/x-python",
   "name": "python",
   "nbconvert_exporter": "python",
   "pygments_lexer": "ipython3",
   "version": "3.12.9"
  },
  "widgets": {
   "application/vnd.jupyter.widget-state+json": {
    "state": {
     "0464f9bccf1248feb2ae2081538d7b1d": {
      "model_module": "@jupyter-widgets/base",
      "model_module_version": "2.0.0",
      "model_name": "LayoutModel",
      "state": {
       "_model_module": "@jupyter-widgets/base",
       "_model_module_version": "2.0.0",
       "_model_name": "LayoutModel",
       "_view_count": null,
       "_view_module": "@jupyter-widgets/base",
       "_view_module_version": "2.0.0",
       "_view_name": "LayoutView",
       "align_content": null,
       "align_items": null,
       "align_self": null,
       "border_bottom": null,
       "border_left": null,
       "border_right": null,
       "border_top": null,
       "bottom": null,
       "display": null,
       "flex": null,
       "flex_flow": null,
       "grid_area": null,
       "grid_auto_columns": null,
       "grid_auto_flow": null,
       "grid_auto_rows": null,
       "grid_column": null,
       "grid_gap": null,
       "grid_row": null,
       "grid_template_areas": null,
       "grid_template_columns": null,
       "grid_template_rows": null,
       "height": null,
       "justify_content": null,
       "justify_items": null,
       "left": null,
       "margin": null,
       "max_height": null,
       "max_width": null,
       "min_height": null,
       "min_width": null,
       "object_fit": null,
       "object_position": null,
       "order": null,
       "overflow": null,
       "padding": null,
       "right": null,
       "top": null,
       "visibility": null,
       "width": null
      }
     },
     "3d977298874a42d1b7432d67c99d5395": {
      "model_module": "@jupyter-widgets/base",
      "model_module_version": "2.0.0",
      "model_name": "LayoutModel",
      "state": {
       "_model_module": "@jupyter-widgets/base",
       "_model_module_version": "2.0.0",
       "_model_name": "LayoutModel",
       "_view_count": null,
       "_view_module": "@jupyter-widgets/base",
       "_view_module_version": "2.0.0",
       "_view_name": "LayoutView",
       "align_content": null,
       "align_items": null,
       "align_self": null,
       "border_bottom": null,
       "border_left": null,
       "border_right": null,
       "border_top": null,
       "bottom": null,
       "display": null,
       "flex": null,
       "flex_flow": null,
       "grid_area": null,
       "grid_auto_columns": null,
       "grid_auto_flow": null,
       "grid_auto_rows": null,
       "grid_column": null,
       "grid_gap": null,
       "grid_row": null,
       "grid_template_areas": null,
       "grid_template_columns": null,
       "grid_template_rows": null,
       "height": null,
       "justify_content": null,
       "justify_items": null,
       "left": null,
       "margin": null,
       "max_height": null,
       "max_width": null,
       "min_height": null,
       "min_width": null,
       "object_fit": null,
       "object_position": null,
       "order": null,
       "overflow": null,
       "padding": null,
       "right": null,
       "top": null,
       "visibility": null,
       "width": null
      }
     },
     "523c02e7168e4463af9859b2a2b945f7": {
      "model_module": "@jupyter-widgets/base",
      "model_module_version": "2.0.0",
      "model_name": "LayoutModel",
      "state": {
       "_model_module": "@jupyter-widgets/base",
       "_model_module_version": "2.0.0",
       "_model_name": "LayoutModel",
       "_view_count": null,
       "_view_module": "@jupyter-widgets/base",
       "_view_module_version": "2.0.0",
       "_view_name": "LayoutView",
       "align_content": null,
       "align_items": null,
       "align_self": null,
       "border_bottom": null,
       "border_left": null,
       "border_right": null,
       "border_top": null,
       "bottom": null,
       "display": null,
       "flex": null,
       "flex_flow": null,
       "grid_area": null,
       "grid_auto_columns": null,
       "grid_auto_flow": null,
       "grid_auto_rows": null,
       "grid_column": null,
       "grid_gap": null,
       "grid_row": null,
       "grid_template_areas": null,
       "grid_template_columns": null,
       "grid_template_rows": null,
       "height": null,
       "justify_content": null,
       "justify_items": null,
       "left": null,
       "margin": null,
       "max_height": null,
       "max_width": null,
       "min_height": null,
       "min_width": null,
       "object_fit": null,
       "object_position": null,
       "order": null,
       "overflow": null,
       "padding": null,
       "right": null,
       "top": null,
       "visibility": null,
       "width": null
      }
     },
     "92816b6214464fbeacc423f505253df6": {
      "model_module": "@jupyter-widgets/controls",
      "model_module_version": "2.0.0",
      "model_name": "ProgressStyleModel",
      "state": {
       "_model_module": "@jupyter-widgets/controls",
       "_model_module_version": "2.0.0",
       "_model_name": "ProgressStyleModel",
       "_view_count": null,
       "_view_module": "@jupyter-widgets/base",
       "_view_module_version": "2.0.0",
       "_view_name": "StyleView",
       "bar_color": null,
       "description_width": ""
      }
     },
     "a8e34b28670e42518d5302ec3737a09e": {
      "model_module": "@jupyter-widgets/controls",
      "model_module_version": "2.0.0",
      "model_name": "HTMLModel",
      "state": {
       "_dom_classes": [],
       "_model_module": "@jupyter-widgets/controls",
       "_model_module_version": "2.0.0",
       "_model_name": "HTMLModel",
       "_view_count": null,
       "_view_module": "@jupyter-widgets/controls",
       "_view_module_version": "2.0.0",
       "_view_name": "HTMLView",
       "description": "",
       "description_allow_html": false,
       "layout": "IPY_MODEL_3d977298874a42d1b7432d67c99d5395",
       "placeholder": "​",
       "style": "IPY_MODEL_e7afd5ff3dec48b993eec540f6f6ea3d",
       "tabbable": null,
       "tooltip": null,
       "value": " 100/100 [00:00&lt;00:00, 958.09it/s]"
      }
     },
     "b20b85efefdd48eea89d08c6f34c9996": {
      "model_module": "@jupyter-widgets/controls",
      "model_module_version": "2.0.0",
      "model_name": "HTMLStyleModel",
      "state": {
       "_model_module": "@jupyter-widgets/controls",
       "_model_module_version": "2.0.0",
       "_model_name": "HTMLStyleModel",
       "_view_count": null,
       "_view_module": "@jupyter-widgets/base",
       "_view_module_version": "2.0.0",
       "_view_name": "StyleView",
       "background": null,
       "description_width": "",
       "font_size": null,
       "text_color": null
      }
     },
     "cdb8edf0dc034465a7770e52e980ced6": {
      "model_module": "@jupyter-widgets/base",
      "model_module_version": "2.0.0",
      "model_name": "LayoutModel",
      "state": {
       "_model_module": "@jupyter-widgets/base",
       "_model_module_version": "2.0.0",
       "_model_name": "LayoutModel",
       "_view_count": null,
       "_view_module": "@jupyter-widgets/base",
       "_view_module_version": "2.0.0",
       "_view_name": "LayoutView",
       "align_content": null,
       "align_items": null,
       "align_self": null,
       "border_bottom": null,
       "border_left": null,
       "border_right": null,
       "border_top": null,
       "bottom": null,
       "display": null,
       "flex": null,
       "flex_flow": null,
       "grid_area": null,
       "grid_auto_columns": null,
       "grid_auto_flow": null,
       "grid_auto_rows": null,
       "grid_column": null,
       "grid_gap": null,
       "grid_row": null,
       "grid_template_areas": null,
       "grid_template_columns": null,
       "grid_template_rows": null,
       "height": null,
       "justify_content": null,
       "justify_items": null,
       "left": null,
       "margin": null,
       "max_height": null,
       "max_width": null,
       "min_height": null,
       "min_width": null,
       "object_fit": null,
       "object_position": null,
       "order": null,
       "overflow": null,
       "padding": null,
       "right": null,
       "top": null,
       "visibility": null,
       "width": null
      }
     },
     "de683211fe2044c79f27449a3784392f": {
      "model_module": "@jupyter-widgets/controls",
      "model_module_version": "2.0.0",
      "model_name": "HBoxModel",
      "state": {
       "_dom_classes": [],
       "_model_module": "@jupyter-widgets/controls",
       "_model_module_version": "2.0.0",
       "_model_name": "HBoxModel",
       "_view_count": null,
       "_view_module": "@jupyter-widgets/controls",
       "_view_module_version": "2.0.0",
       "_view_name": "HBoxView",
       "box_style": "",
       "children": [
        "IPY_MODEL_e6c7597d5cef42e2a8c179c23dc66bfa",
        "IPY_MODEL_fce367fa747c48c4a66d47e11a0b64f1",
        "IPY_MODEL_a8e34b28670e42518d5302ec3737a09e"
       ],
       "layout": "IPY_MODEL_523c02e7168e4463af9859b2a2b945f7",
       "tabbable": null,
       "tooltip": null
      }
     },
     "e6c7597d5cef42e2a8c179c23dc66bfa": {
      "model_module": "@jupyter-widgets/controls",
      "model_module_version": "2.0.0",
      "model_name": "HTMLModel",
      "state": {
       "_dom_classes": [],
       "_model_module": "@jupyter-widgets/controls",
       "_model_module_version": "2.0.0",
       "_model_name": "HTMLModel",
       "_view_count": null,
       "_view_module": "@jupyter-widgets/controls",
       "_view_module_version": "2.0.0",
       "_view_name": "HTMLView",
       "description": "",
       "description_allow_html": false,
       "layout": "IPY_MODEL_0464f9bccf1248feb2ae2081538d7b1d",
       "placeholder": "​",
       "style": "IPY_MODEL_b20b85efefdd48eea89d08c6f34c9996",
       "tabbable": null,
       "tooltip": null,
       "value": "100%"
      }
     },
     "e7afd5ff3dec48b993eec540f6f6ea3d": {
      "model_module": "@jupyter-widgets/controls",
      "model_module_version": "2.0.0",
      "model_name": "HTMLStyleModel",
      "state": {
       "_model_module": "@jupyter-widgets/controls",
       "_model_module_version": "2.0.0",
       "_model_name": "HTMLStyleModel",
       "_view_count": null,
       "_view_module": "@jupyter-widgets/base",
       "_view_module_version": "2.0.0",
       "_view_name": "StyleView",
       "background": null,
       "description_width": "",
       "font_size": null,
       "text_color": null
      }
     },
     "fce367fa747c48c4a66d47e11a0b64f1": {
      "model_module": "@jupyter-widgets/controls",
      "model_module_version": "2.0.0",
      "model_name": "FloatProgressModel",
      "state": {
       "_dom_classes": [],
       "_model_module": "@jupyter-widgets/controls",
       "_model_module_version": "2.0.0",
       "_model_name": "FloatProgressModel",
       "_view_count": null,
       "_view_module": "@jupyter-widgets/controls",
       "_view_module_version": "2.0.0",
       "_view_name": "ProgressView",
       "bar_style": "success",
       "description": "",
       "description_allow_html": false,
       "layout": "IPY_MODEL_cdb8edf0dc034465a7770e52e980ced6",
       "max": 100,
       "min": 0,
       "orientation": "horizontal",
       "style": "IPY_MODEL_92816b6214464fbeacc423f505253df6",
       "tabbable": null,
       "tooltip": null,
       "value": 100
      }
     }
    },
    "version_major": 2,
    "version_minor": 0
   }
  }
 },
 "nbformat": 4,
 "nbformat_minor": 5
}
