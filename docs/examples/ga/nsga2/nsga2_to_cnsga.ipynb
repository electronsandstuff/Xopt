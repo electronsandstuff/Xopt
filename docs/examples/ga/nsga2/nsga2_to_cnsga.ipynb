{
 "cells": [
  {
   "cell_type": "markdown",
   "id": "8b8fba41",
   "metadata": {},
   "source": [
    "# Output Conversion to `CNSGAGenerator` Style\n",
    "This notebook demonstrates the use of the utility function `nsga2_to_cnsga`.\n",
    "This tool converts the file output from `NSGA2Generator` into the directory of timestamped files format used in `CNSGAGenerator`.\n",
    "Backwards compatibility with existing analysis codes is enabled through this function."
   ]
  },
  {
   "cell_type": "code",
   "execution_count": 1,
   "id": "c48ea748",
   "metadata": {},
   "outputs": [],
   "source": [
    "from glob import glob\n",
    "import os\n",
    "import shutil\n",
    "import tempfile\n",
    "\n",
    "from xopt import Xopt, Evaluator\n",
    "from xopt.generators.ga.nsga2 import nsga2_to_cnsga\n",
    "from xopt.generators.ga.nsga2 import NSGA2Generator\n",
    "from xopt.resources.test_functions.zdt import construct_zdt\n",
    "from xopt.utils import read_xopt_csv"
   ]
  },
  {
   "cell_type": "markdown",
   "id": "4b427e4d",
   "metadata": {},
   "source": [
    "## Generating Data\n",
    "First, we will run the optimization algorithm on a test problem and output data to a temporary directory (this will be cleaned up at the end of the notebook)."
   ]
  },
  {
   "cell_type": "code",
   "execution_count": 2,
   "id": "b1558884",
   "metadata": {},
   "outputs": [],
   "source": [
    "# Get the problem ZDT2 and create an Xopt evaluator\n",
    "prob_vocs, prob_fun, _ = construct_zdt(30, 3)\n",
    "ev = Evaluator(function=prob_fun)"
   ]
  },
  {
   "cell_type": "code",
   "execution_count": 3,
   "id": "00a395c7",
   "metadata": {},
   "outputs": [
    {
     "name": "stdout",
     "output_type": "stream",
     "text": [
      "Will write data to \"/tmp/tmp04gjy7np\"\n"
     ]
    }
   ],
   "source": [
    "# Setup our output directory\n",
    "output_dir = tempfile.mkdtemp()\n",
    "print(f'Will write data to \"{output_dir}\"')"
   ]
  },
  {
   "cell_type": "code",
   "execution_count": 4,
   "id": "0c8680d1",
   "metadata": {},
   "outputs": [],
   "source": [
    "# Set up a generator configured to output data\n",
    "generator = NSGA2Generator(\n",
    "    vocs=prob_vocs,\n",
    "    output_dir=output_dir,\n",
    "    checkpoint_freq=8,\n",
    ")\n",
    "\n",
    "# Run it for a couple of generations\n",
    "ev.max_workers = generator.population_size\n",
    "X = Xopt(generator=generator, evaluator=ev, vocs=prob_vocs)\n",
    "for _ in range(64):\n",
    "    X.step()"
   ]
  },
  {
   "cell_type": "markdown",
   "id": "1dc91edc",
   "metadata": {},
   "source": [
    "## Output Conversion\n",
    "Here, we take the output from `NSGA2Generator` and convert it to the format used by `CNSGAGenerator`.\n",
    "\n",
    "**Note**: The dates displayed in the filenames are the epoch datetime plus the generation index in seconds. This guarantees reproducible results from the same optimization data. IE, using the date and time the files were converted or the last modification date of the population file give results that depend on when the converter tool was run or when the last population was saved from the optimizer. This causes problems when the converter is run more than once (such as for continuously plotting data) as filenames will change and existing converted files may be duplicated."
   ]
  },
  {
   "cell_type": "code",
   "execution_count": 5,
   "id": "581985f9",
   "metadata": {},
   "outputs": [
    {
     "name": "stdout",
     "output_type": "stream",
     "text": [
      "Will write converted data to \"/tmp/tmp4u6p_wsh\"\n"
     ]
    }
   ],
   "source": [
    "# Make a new directory for the converted data\n",
    "conv_dir = tempfile.mkdtemp()\n",
    "print(f'Will write converted data to \"{conv_dir}\"')"
   ]
  },
  {
   "cell_type": "code",
   "execution_count": 6,
   "id": "20d3b252",
   "metadata": {},
   "outputs": [],
   "source": [
    "# Perform the conversion\n",
    "nsga2_to_cnsga(output_dir, conv_dir)"
   ]
  },
  {
   "cell_type": "code",
   "execution_count": 7,
   "id": "e28ee399",
   "metadata": {},
   "outputs": [
    {
     "data": {
      "text/plain": [
       "['/tmp/tmp4u6p_wsh/cnsga_population_1970-01-01T00_01_00+00_00.csv',\n",
       " '/tmp/tmp4u6p_wsh/cnsga_population_1970-01-01T00_01_01+00_00.csv',\n",
       " '/tmp/tmp4u6p_wsh/cnsga_population_1970-01-01T00_01_02+00_00.csv',\n",
       " '/tmp/tmp4u6p_wsh/cnsga_population_1970-01-01T00_01_03+00_00.csv',\n",
       " '/tmp/tmp4u6p_wsh/cnsga_population_1970-01-01T00_01_04+00_00.csv']"
      ]
     },
     "execution_count": 7,
     "metadata": {},
     "output_type": "execute_result"
    }
   ],
   "source": [
    "# Load population files\n",
    "pop_files = sorted(glob(f\"{conv_dir}/cnsga_population*\"))\n",
    "pop_files[-5:]"
   ]
  },
  {
   "cell_type": "code",
   "execution_count": 8,
   "id": "2bab358e",
   "metadata": {},
   "outputs": [
    {
     "data": {
      "text/plain": [
       "['/tmp/tmp4u6p_wsh/cnsga_offspring_1970-01-01T00_01_00+00_00.csv',\n",
       " '/tmp/tmp4u6p_wsh/cnsga_offspring_1970-01-01T00_01_01+00_00.csv',\n",
       " '/tmp/tmp4u6p_wsh/cnsga_offspring_1970-01-01T00_01_02+00_00.csv',\n",
       " '/tmp/tmp4u6p_wsh/cnsga_offspring_1970-01-01T00_01_03+00_00.csv',\n",
       " '/tmp/tmp4u6p_wsh/cnsga_offspring_1970-01-01T00_01_04+00_00.csv']"
      ]
     },
     "execution_count": 8,
     "metadata": {},
     "output_type": "execute_result"
    }
   ],
   "source": [
    "# Load offspring files\n",
    "off_files = sorted(glob(f\"{conv_dir}/cnsga_offspring*\"))\n",
    "off_files[-5:]"
   ]
  },
  {
   "cell_type": "code",
   "execution_count": 9,
   "id": "d7cd09da",
   "metadata": {},
   "outputs": [
    {
     "data": {
      "text/plain": [
       "<Axes: xlabel='f1', ylabel='f2'>"
      ]
     },
     "execution_count": 9,
     "metadata": {},
     "output_type": "execute_result"
    },
    {
     "data": {
      "image/png": "[encoded data removed]",
      "text/plain": [
       "<Figure size 640x480 with 1 Axes>"
      ]
     },
     "metadata": {},
     "output_type": "display_data"
    }
   ],
   "source": [
    "# Load data back in and plot Pareto front\n",
    "pop_df = read_xopt_csv(pop_files[-1])\n",
    "pop_df.plot.scatter(\"f1\", \"f2\", marker=\"o\")"
   ]
  },
  {
   "cell_type": "markdown",
   "id": "1c61abba",
   "metadata": {},
   "source": [
    "## Partial Conversion\n",
    "Sometimes the output files from the optimizer can be large.\n",
    "For better performance in plotting only the final few generations, the conversion tool includes a feature to only convert the last $n$ lines of `populations.csv` and `data.csv`.\n",
    "When used, no lines except the last few are even read into memory."
   ]
  },
  {
   "cell_type": "code",
   "execution_count": 10,
   "id": "f56d61c6",
   "metadata": {},
   "outputs": [
    {
     "name": "stdout",
     "output_type": "stream",
     "text": [
      "Will write converted data to \"/tmp/tmpt0kbylbh\"\n"
     ]
    }
   ],
   "source": [
    "# Make a new directory for the converted data\n",
    "conv_partial_dir = tempfile.mkdtemp()\n",
    "print(f'Will write converted data to \"{conv_partial_dir}\"')"
   ]
  },
  {
   "cell_type": "code",
   "execution_count": 11,
   "id": "c737bd3c",
   "metadata": {},
   "outputs": [],
   "source": [
    "# Perform the conversion (aim for last 4 generations; population_size=50)\n",
    "nsga2_to_cnsga(output_dir, conv_partial_dir, last_n_lines=200)"
   ]
  },
  {
   "cell_type": "code",
   "execution_count": 12,
   "id": "93f1ccdf",
   "metadata": {},
   "outputs": [
    {
     "name": "stdout",
     "output_type": "stream",
     "text": [
      "Number of generations (full conversion): 64\n",
      "Number of generations (partial conversion): 4\n"
     ]
    }
   ],
   "source": [
    "# Show number of generations output (number of files = 2*generations)\n",
    "print(f\"Number of generations (full conversion): {len(os.listdir(conv_dir))//2}\")\n",
    "print(f\"Number of generations (partial conversion): {len(os.listdir(conv_partial_dir))//2}\")"
   ]
  },
  {
   "cell_type": "code",
   "execution_count": 13,
   "id": "752b74b3",
   "metadata": {},
   "outputs": [
    {
     "data": {
      "text/plain": [
       "<Axes: xlabel='f1', ylabel='f2'>"
      ]
     },
     "execution_count": 13,
     "metadata": {},
     "output_type": "execute_result"
    },
    {
     "data": {
      "image/png": "[encoded data removed]",
      "text/plain": [
       "<Figure size 640x480 with 1 Axes>"
      ]
     },
     "metadata": {},
     "output_type": "display_data"
    }
   ],
   "source": [
    "# Plot the final converted generation\n",
    "pop_df = read_xopt_csv(sorted(glob(f\"{conv_partial_dir}/cnsga_population*\"))[-1])\n",
    "pop_df.plot.scatter(\"f1\", \"f2\", marker=\"o\")"
   ]
  },
  {
   "cell_type": "markdown",
   "id": "c183c702",
   "metadata": {},
   "source": [
    "## Clean Up Directories\n",
    "We will now clean up the temporary directories we created."
   ]
  },
  {
   "cell_type": "code",
   "execution_count": 14,
   "id": "0294308a",
   "metadata": {},
   "outputs": [],
   "source": [
    "# Remove temp dirs\n",
    "shutil.rmtree(output_dir)\n",
    "shutil.rmtree(conv_dir)\n",
    "shutil.rmtree(conv_partial_dir)"
   ]
  }
 ],
 "metadata": {
  "kernelspec": {
   "display_name": "xopt-dev",
   "language": "python",
   "name": "python3"
  },
  "language_info": {
   "codemirror_mode": {
    "name": "ipython",
    "version": 3
   },
   "file_extension": ".py",
   "mimetype": "text/x-python",
   "name": "python",
   "nbconvert_exporter": "python",
   "pygments_lexer": "ipython3",
   "version": "3.12.0"
  }
 },
 "nbformat": 4,
 "nbformat_minor": 5
}
