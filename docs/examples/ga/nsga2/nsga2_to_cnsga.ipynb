{
 "cells": [
  {
   "cell_type": "code",
   "execution_count": 1,
   "id": "c48ea748",
   "metadata": {},
   "outputs": [],
   "source": [
    "from xopt.generators.ga.nsga2 import nsga2_to_cnsga\n",
    "import os\n",
    "import pandas as pd\n",
    "import glob"
   ]
  },
  {
   "cell_type": "code",
   "execution_count": 2,
   "id": "581985f9",
   "metadata": {},
   "outputs": [],
   "source": [
    "output_dir = \"/home/chris/Downloads/xopt-conv5\"\n",
    "nsga2_to_cnsga(\"/home/chris/Downloads/xopt-test_3\", output_dir, last_n_lines=100)"
   ]
  },
  {
   "cell_type": "code",
   "execution_count": 3,
   "id": "b294cb98",
   "metadata": {},
   "outputs": [
    {
     "name": "stdout",
     "output_type": "stream",
     "text": [
      "50\n",
      "50\n"
     ]
    }
   ],
   "source": [
    "pop_files = sorted(glob.glob(os.path.join(output_dir, \"cnsga_population*\")))\n",
    "for f in pop_files:\n",
    "    df = pd.read_csv(f)\n",
    "    print(len(df))"
   ]
  },
  {
   "cell_type": "code",
   "execution_count": 4,
   "id": "eca9ad3e",
   "metadata": {},
   "outputs": [
    {
     "name": "stdout",
     "output_type": "stream",
     "text": [
      "50\n",
      "50\n"
     ]
    },
    {
     "data": {
      "text/plain": [
       "100"
      ]
     },
     "execution_count": 4,
     "metadata": {},
     "output_type": "execute_result"
    }
   ],
   "source": [
    "pop_files = sorted(glob.glob(os.path.join(output_dir, \"cnsga_offspring*\")))\n",
    "total = 0\n",
    "for f in pop_files:\n",
    "    df = pd.read_csv(f)\n",
    "    print(len(df))\n",
    "    total += len(df)\n",
    "total"
   ]
  },
  {
   "cell_type": "code",
   "execution_count": 5,
   "id": "4be2885a",
   "metadata": {},
   "outputs": [
    {
     "name": "stdout",
     "output_type": "stream",
     "text": [
      "50\n",
      "50\n"
     ]
    }
   ],
   "source": [
    "for f in pop_files:\n",
    "    df = pd.read_csv(f)\n",
    "    print(len(df))"
   ]
  }
 ],
 "metadata": {
  "kernelspec": {
   "display_name": "xopt-dev",
   "language": "python",
   "name": "python3"
  },
  "language_info": {
   "codemirror_mode": {
    "name": "ipython",
    "version": 3
   },
   "file_extension": ".py",
   "mimetype": "text/x-python",
   "name": "python",
   "nbconvert_exporter": "python",
   "pygments_lexer": "ipython3",
   "version": "3.12.0"
  }
 },
 "nbformat": 4,
 "nbformat_minor": 5
}
