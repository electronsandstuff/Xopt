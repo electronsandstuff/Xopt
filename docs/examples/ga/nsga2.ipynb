{
 "cells": [
  {
   "cell_type": "code",
   "execution_count": 1,
   "metadata": {},
   "outputs": [],
   "source": [
    "from xopt.generators.ga.nsga2 import NSGA2Generator\n",
    "from xopt.resources.test_functions.tnk import evaluate_TNK, tnk_vocs\n",
    "from xopt import Xopt, Evaluator\n",
    "import logging\n",
    "\n",
    "\n",
    "# Configure basic logging to stdout\n",
    "logging.basicConfig(\n",
    "    level=logging.DEBUG,  # Set the default logging level (DEBUG, INFO, WARNING, ERROR, CRITICAL)\n",
    "    format='%(asctime)s - %(name)s - %(levelname)s - %(message)s',  # Format for log messages\n",
    "    datefmt='%Y-%m-%d %H:%M:%S'  # Date/time format\n",
    ")"
   ]
  },
  {
   "cell_type": "code",
   "execution_count": 3,
   "metadata": {},
   "outputs": [
    {
     "name": "stderr",
     "output_type": "stream",
     "text": [
      "2025-03-02 01:38:39 - xopt.generator - INFO - Initialized generator nsga2\n",
      "2025-03-02 01:38:39 - xopt.base - INFO - Running Xopt step\n",
      "2025-03-02 01:38:39 - xopt.base - DEBUG - Generating 50 candidates\n",
      "2025-03-02 01:38:39 - xopt.generators.ga.nsga2 - DEBUG - generated 50 random candidates in 0.22ms (no population exists yet)\n",
      "2025-03-02 01:38:39 - xopt.generators.ga.nsga2 - DEBUG - deduplicated generation round 0 completed (n_removed=0, len(idx)=50, n_existing_vars=0, len(self.decision_vars_seen)=50)\n",
      "2025-03-02 01:38:39 - xopt.generators.ga.nsga2 - INFO - generated 50 candidates in 7.30ms (removed 0 duplicate individuals)\n",
      "2025-03-02 01:38:39 - xopt.base - DEBUG - Evaluating 50 inputs\n",
      "2025-03-02 01:38:39 - xopt.base - DEBUG - Adding 50 new data to internal dataframes\n",
      "2025-03-02 01:38:39 - xopt.generators.ga.nsga2 - INFO - adding 50 new evaluated individuals to generator\n",
      "2025-03-02 01:38:39 - xopt.generators.ga.nsga2 - INFO - completed generation 1 in 0.027s (n_feasible=5, n_err=0, children_performance=0.001s (0.000s), add_data_round=0, fevals=50, n_candidates=50)\n",
      "2025-03-02 01:38:39 - xopt.generators.ga.nsga2 - DEBUG - detected existing output_dir \"C:\\Users\\chris\\Downloads\\optimizer_test\" and corrected to \"C:\\Users\\chris\\Downloads\\optimizer_test\" to avoid overwriting\n",
      "2025-03-02 01:38:39 - xopt.generators.ga.nsga2 - INFO - saved optimization data to \"C:\\Users\\chris\\Downloads\\optimizer_test\" in 28.96ms\n",
      "2025-03-02 01:38:39 - xopt.base - INFO - Running Xopt step\n",
      "2025-03-02 01:38:39 - xopt.base - DEBUG - Generating 50 candidates\n"
     ]
    },
    {
     "name": "stdout",
     "output_type": "stream",
     "text": [
      "Using CNSGA Generator:\n"
     ]
    },
    {
     "name": "stderr",
     "output_type": "stream",
     "text": [
      "2025-03-02 01:38:40 - xopt.generators.ga.nsga2 - DEBUG - generated 50 candidates from generation 1 in 144.31ms\n",
      "2025-03-02 01:38:40 - xopt.generators.ga.nsga2 - DEBUG - deduplicated generation round 0 completed (n_removed=2, len(idx)=48, n_existing_vars=50, len(self.decision_vars_seen)=98)\n",
      "2025-03-02 01:38:40 - xopt.generators.ga.nsga2 - DEBUG - generated 2 candidates from generation 1 in 6.01ms\n",
      "2025-03-02 01:38:40 - xopt.generators.ga.nsga2 - DEBUG - deduplicated generation round 1 completed (n_removed=2, len(idx)=2, n_existing_vars=98, len(self.decision_vars_seen)=100)\n",
      "2025-03-02 01:38:40 - xopt.generators.ga.nsga2 - INFO - generated 50 candidates in 153.33ms (removed 2 duplicate individuals)\n",
      "2025-03-02 01:38:40 - xopt.base - DEBUG - Evaluating 50 inputs\n",
      "2025-03-02 01:38:40 - xopt.base - DEBUG - Adding 50 new data to internal dataframes\n",
      "2025-03-02 01:38:40 - xopt.generators.ga.nsga2 - INFO - adding 50 new evaluated individuals to generator\n",
      "2025-03-02 01:38:40 - xopt.generators.ga.nsga2 - INFO - completed generation 2 in 0.194s (n_feasible=7, n_err=0, children_performance=0.000s (0.000s), add_data_round=0, fevals=100, n_candidates=102)\n",
      "2025-03-02 01:38:40 - xopt.generators.ga.nsga2 - INFO - saved optimization data to \"C:\\Users\\chris\\Downloads\\optimizer_test\" in 2.77ms\n",
      "2025-03-02 01:38:40 - xopt.base - INFO - Running Xopt step\n",
      "2025-03-02 01:38:40 - xopt.base - DEBUG - Generating 50 candidates\n",
      "2025-03-02 01:38:40 - xopt.generators.ga.nsga2 - DEBUG - generated 50 candidates from generation 2 in 140.11ms\n",
      "2025-03-02 01:38:40 - xopt.generators.ga.nsga2 - DEBUG - deduplicated generation round 0 completed (n_removed=4, len(idx)=46, n_existing_vars=100, len(self.decision_vars_seen)=146)\n",
      "2025-03-02 01:38:40 - xopt.generators.ga.nsga2 - DEBUG - generated 4 candidates from generation 2 in 12.09ms\n",
      "2025-03-02 01:38:40 - xopt.generators.ga.nsga2 - DEBUG - deduplicated generation round 1 completed (n_removed=4, len(idx)=4, n_existing_vars=146, len(self.decision_vars_seen)=150)\n",
      "2025-03-02 01:38:40 - xopt.generators.ga.nsga2 - INFO - generated 50 candidates in 155.88ms (removed 4 duplicate individuals)\n",
      "2025-03-02 01:38:40 - xopt.base - DEBUG - Evaluating 50 inputs\n",
      "2025-03-02 01:38:40 - xopt.base - DEBUG - Adding 50 new data to internal dataframes\n",
      "2025-03-02 01:38:40 - xopt.generators.ga.nsga2 - INFO - adding 50 new evaluated individuals to generator\n",
      "2025-03-02 01:38:40 - xopt.generators.ga.nsga2 - INFO - completed generation 3 in 0.169s (n_feasible=23, n_err=0, children_performance=0.000s (0.000s), add_data_round=0, fevals=150, n_candidates=156)\n",
      "2025-03-02 01:38:40 - xopt.generators.ga.nsga2 - INFO - saved optimization data to \"C:\\Users\\chris\\Downloads\\optimizer_test\" in 3.03ms\n",
      "2025-03-02 01:38:40 - xopt.base - INFO - Running Xopt step\n",
      "2025-03-02 01:38:40 - xopt.base - DEBUG - Generating 50 candidates\n",
      "2025-03-02 01:38:40 - xopt.generators.ga.nsga2 - DEBUG - generated 50 candidates from generation 3 in 138.43ms\n",
      "2025-03-02 01:38:40 - xopt.generators.ga.nsga2 - DEBUG - deduplicated generation round 0 completed (n_removed=4, len(idx)=46, n_existing_vars=150, len(self.decision_vars_seen)=196)\n",
      "2025-03-02 01:38:40 - xopt.generators.ga.nsga2 - DEBUG - generated 4 candidates from generation 3 in 11.21ms\n",
      "2025-03-02 01:38:40 - xopt.generators.ga.nsga2 - DEBUG - deduplicated generation round 1 completed (n_removed=4, len(idx)=4, n_existing_vars=196, len(self.decision_vars_seen)=200)\n",
      "2025-03-02 01:38:40 - xopt.generators.ga.nsga2 - INFO - generated 50 candidates in 153.11ms (removed 4 duplicate individuals)\n",
      "2025-03-02 01:38:40 - xopt.base - DEBUG - Evaluating 50 inputs\n",
      "2025-03-02 01:38:40 - xopt.base - DEBUG - Adding 50 new data to internal dataframes\n",
      "2025-03-02 01:38:40 - xopt.generators.ga.nsga2 - INFO - adding 50 new evaluated individuals to generator\n",
      "2025-03-02 01:38:40 - xopt.generators.ga.nsga2 - INFO - completed generation 4 in 0.167s (n_feasible=49, n_err=0, children_performance=0.001s (0.000s), add_data_round=0, fevals=200, n_candidates=210)\n",
      "2025-03-02 01:38:40 - xopt.generators.ga.nsga2 - INFO - saved optimization data to \"C:\\Users\\chris\\Downloads\\optimizer_test\" in 3.92ms\n",
      "2025-03-02 01:38:40 - xopt.generators.ga.nsga2 - DEBUG - saved checkpoint file \"C:\\Users\\chris\\Downloads\\optimizer_test\\checkpoints\\20250302_013840_1.txt\"\n",
      "2025-03-02 01:38:40 - xopt.base - INFO - Running Xopt step\n",
      "2025-03-02 01:38:40 - xopt.base - DEBUG - Generating 50 candidates\n",
      "2025-03-02 01:38:40 - xopt.generators.ga.nsga2 - DEBUG - generated 50 candidates from generation 4 in 109.47ms\n",
      "2025-03-02 01:38:40 - xopt.generators.ga.nsga2 - DEBUG - deduplicated generation round 0 completed (n_removed=5, len(idx)=45, n_existing_vars=200, len(self.decision_vars_seen)=245)\n",
      "2025-03-02 01:38:40 - xopt.generators.ga.nsga2 - DEBUG - generated 5 candidates from generation 4 in 11.97ms\n",
      "2025-03-02 01:38:40 - xopt.generators.ga.nsga2 - DEBUG - deduplicated generation round 1 completed (n_removed=5, len(idx)=5, n_existing_vars=245, len(self.decision_vars_seen)=250)\n",
      "2025-03-02 01:38:40 - xopt.generators.ga.nsga2 - INFO - generated 50 candidates in 125.13ms (removed 5 duplicate individuals)\n",
      "2025-03-02 01:38:40 - xopt.base - DEBUG - Evaluating 50 inputs\n",
      "2025-03-02 01:38:40 - xopt.base - DEBUG - Adding 50 new data to internal dataframes\n",
      "2025-03-02 01:38:40 - xopt.generators.ga.nsga2 - INFO - adding 50 new evaluated individuals to generator\n",
      "2025-03-02 01:38:40 - xopt.generators.ga.nsga2 - INFO - completed generation 5 in 0.140s (n_feasible=50, n_err=0, children_performance=0.001s (0.000s), add_data_round=0, fevals=250, n_candidates=265)\n",
      "2025-03-02 01:38:40 - xopt.generators.ga.nsga2 - INFO - saved optimization data to \"C:\\Users\\chris\\Downloads\\optimizer_test\" in 3.52ms\n",
      "2025-03-02 01:38:40 - xopt.base - INFO - Running Xopt step\n",
      "2025-03-02 01:38:40 - xopt.base - DEBUG - Generating 50 candidates\n",
      "2025-03-02 01:38:40 - xopt.generators.ga.nsga2 - DEBUG - generated 50 candidates from generation 5 in 105.66ms\n",
      "2025-03-02 01:38:40 - xopt.generators.ga.nsga2 - DEBUG - deduplicated generation round 0 completed (n_removed=1, len(idx)=49, n_existing_vars=250, len(self.decision_vars_seen)=299)\n",
      "2025-03-02 01:38:40 - xopt.generators.ga.nsga2 - DEBUG - generated 1 candidates from generation 5 in 2.54ms\n",
      "2025-03-02 01:38:40 - xopt.generators.ga.nsga2 - DEBUG - deduplicated generation round 1 completed (n_removed=2, len(idx)=0, n_existing_vars=299, len(self.decision_vars_seen)=299)\n",
      "2025-03-02 01:38:40 - xopt.generators.ga.nsga2 - DEBUG - generated 1 candidates from generation 5 in 2.30ms\n",
      "2025-03-02 01:38:40 - xopt.generators.ga.nsga2 - DEBUG - deduplicated generation round 2 completed (n_removed=2, len(idx)=1, n_existing_vars=299, len(self.decision_vars_seen)=300)\n",
      "2025-03-02 01:38:40 - xopt.generators.ga.nsga2 - INFO - generated 50 candidates in 114.74ms (removed 2 duplicate individuals)\n",
      "2025-03-02 01:38:40 - xopt.base - DEBUG - Evaluating 50 inputs\n",
      "2025-03-02 01:38:40 - xopt.base - DEBUG - Adding 50 new data to internal dataframes\n",
      "2025-03-02 01:38:40 - xopt.generators.ga.nsga2 - INFO - adding 50 new evaluated individuals to generator\n",
      "2025-03-02 01:38:40 - xopt.generators.ga.nsga2 - INFO - completed generation 6 in 0.127s (n_feasible=50, n_err=0, children_performance=0.000s (0.000s), add_data_round=0, fevals=300, n_candidates=317)\n",
      "2025-03-02 01:38:40 - xopt.generators.ga.nsga2 - INFO - saved optimization data to \"C:\\Users\\chris\\Downloads\\optimizer_test\" in 3.68ms\n",
      "2025-03-02 01:38:40 - xopt.base - INFO - Running Xopt step\n",
      "2025-03-02 01:38:40 - xopt.base - DEBUG - Generating 50 candidates\n",
      "2025-03-02 01:38:40 - xopt.generators.ga.nsga2 - DEBUG - generated 50 candidates from generation 6 in 105.72ms\n",
      "2025-03-02 01:38:40 - xopt.generators.ga.nsga2 - DEBUG - deduplicated generation round 0 completed (n_removed=3, len(idx)=47, n_existing_vars=300, len(self.decision_vars_seen)=347)\n",
      "2025-03-02 01:38:40 - xopt.generators.ga.nsga2 - DEBUG - generated 3 candidates from generation 6 in 6.34ms\n",
      "2025-03-02 01:38:40 - xopt.generators.ga.nsga2 - DEBUG - deduplicated generation round 1 completed (n_removed=3, len(idx)=3, n_existing_vars=347, len(self.decision_vars_seen)=350)\n",
      "2025-03-02 01:38:40 - xopt.generators.ga.nsga2 - INFO - generated 50 candidates in 115.18ms (removed 3 duplicate individuals)\n",
      "2025-03-02 01:38:40 - xopt.base - DEBUG - Evaluating 50 inputs\n",
      "2025-03-02 01:38:40 - xopt.base - DEBUG - Adding 50 new data to internal dataframes\n",
      "2025-03-02 01:38:40 - xopt.generators.ga.nsga2 - INFO - adding 50 new evaluated individuals to generator\n",
      "2025-03-02 01:38:40 - xopt.generators.ga.nsga2 - INFO - completed generation 7 in 0.129s (n_feasible=50, n_err=0, children_performance=0.001s (0.000s), add_data_round=0, fevals=350, n_candidates=370)\n",
      "2025-03-02 01:38:40 - xopt.generators.ga.nsga2 - INFO - saved optimization data to \"C:\\Users\\chris\\Downloads\\optimizer_test\" in 4.18ms\n",
      "2025-03-02 01:38:40 - xopt.base - INFO - Running Xopt step\n",
      "2025-03-02 01:38:40 - xopt.base - DEBUG - Generating 50 candidates\n",
      "2025-03-02 01:38:40 - xopt.generators.ga.nsga2 - DEBUG - generated 50 candidates from generation 7 in 106.35ms\n",
      "2025-03-02 01:38:40 - xopt.generators.ga.nsga2 - DEBUG - deduplicated generation round 0 completed (n_removed=2, len(idx)=48, n_existing_vars=350, len(self.decision_vars_seen)=398)\n",
      "2025-03-02 01:38:40 - xopt.generators.ga.nsga2 - DEBUG - generated 2 candidates from generation 7 in 4.66ms\n",
      "2025-03-02 01:38:40 - xopt.generators.ga.nsga2 - DEBUG - deduplicated generation round 1 completed (n_removed=2, len(idx)=2, n_existing_vars=398, len(self.decision_vars_seen)=400)\n",
      "2025-03-02 01:38:40 - xopt.generators.ga.nsga2 - INFO - generated 50 candidates in 114.33ms (removed 2 duplicate individuals)\n",
      "2025-03-02 01:38:40 - xopt.base - DEBUG - Evaluating 50 inputs\n",
      "2025-03-02 01:38:40 - xopt.base - DEBUG - Adding 50 new data to internal dataframes\n",
      "2025-03-02 01:38:40 - xopt.generators.ga.nsga2 - INFO - adding 50 new evaluated individuals to generator\n",
      "2025-03-02 01:38:40 - xopt.generators.ga.nsga2 - INFO - completed generation 8 in 0.130s (n_feasible=50, n_err=0, children_performance=0.000s (0.000s), add_data_round=0, fevals=400, n_candidates=422)\n",
      "2025-03-02 01:38:40 - xopt.generators.ga.nsga2 - INFO - saved optimization data to \"C:\\Users\\chris\\Downloads\\optimizer_test\" in 5.07ms\n",
      "2025-03-02 01:38:41 - xopt.generators.ga.nsga2 - DEBUG - saved checkpoint file \"C:\\Users\\chris\\Downloads\\optimizer_test\\checkpoints\\20250302_013840_2.txt\"\n"
     ]
    },
    {
     "name": "stdout",
     "output_type": "stream",
     "text": [
      "Saw 400 evaluations, 8 generations, 422 candidates\n"
     ]
    }
   ],
   "source": [
    "# Create a test problem and use NSGA-II to solve it\n",
    "population_size = 50\n",
    "ev = Evaluator(function=evaluate_TNK, vectorized=True, max_workers=population_size)\n",
    "X = Xopt(\n",
    "    generator=NSGA2Generator(\n",
    "        vocs=tnk_vocs,\n",
    "        population_size=population_size, \n",
    "        output_dir=r\"C:\\Users\\chris\\Downloads\\optimizer_test\",\n",
    "        checkpoint_freq=4\n",
    "    ),\n",
    "    evaluator=ev,\n",
    "    vocs=tnk_vocs,\n",
    ")\n",
    "X.strict = False\n",
    "\n",
    "print(\"Using CNSGA Generator:\")\n",
    "for gen in range(8):\n",
    "    X.step()\n",
    "\n",
    "# Test generator metadata\n",
    "print(f\"Saw {X.generator.fevals} evaluations, {X.generator.n_generations} generations, {X.generator.n_candidates} candidates\")"
   ]
  },
  {
   "cell_type": "code",
   "execution_count": null,
   "metadata": {},
   "outputs": [],
   "source": []
  }
 ],
 "metadata": {
  "kernelspec": {
   "display_name": "Python 3",
   "language": "python",
   "name": "python3"
  },
  "language_info": {
   "codemirror_mode": {
    "name": "ipython",
    "version": 3
   },
   "file_extension": ".py",
   "mimetype": "text/x-python",
   "name": "python",
   "nbconvert_exporter": "python",
   "pygments_lexer": "ipython3",
   "version": "3.13.2"
  }
 },
 "nbformat": 4,
 "nbformat_minor": 2
}
